{
  "nbformat": 4,
  "nbformat_minor": 0,
  "metadata": {
    "colab": {
      "provenance": [],
      "include_colab_link": true
    },
    "kernelspec": {
      "name": "python3",
      "display_name": "Python 3"
    },
    "language_info": {
      "name": "python"
    }
  },
  "cells": [
    {
      "cell_type": "markdown",
      "metadata": {
        "id": "view-in-github",
        "colab_type": "text"
      },
      "source": [
        "<a href=\"https://colab.research.google.com/github/drcrajc/tableau_datasets/blob/main/south_american_Sales_Stock_Inventory_Dataset.ipynb\" target=\"_parent\"><img src=\"https://colab.research.google.com/assets/colab-badge.svg\" alt=\"Open In Colab\"/></a>"
      ]
    },
    {
      "cell_type": "code",
      "execution_count": null,
      "metadata": {
        "colab": {
          "base_uri": "https://localhost:8080/"
        },
        "id": "LZUbFzftRdAD",
        "outputId": "c41cd8d4-0d54-4fe7-b115-7cfd531591d7"
      },
      "outputs": [
        {
          "output_type": "stream",
          "name": "stdout",
          "text": [
            "Collecting faker\n",
            "  Downloading Faker-25.3.0-py3-none-any.whl (1.8 MB)\n",
            "\u001b[2K     \u001b[90m━━━━━━━━━━━━━━━━━━━━━━━━━━━━━━━━━━━━━━━━\u001b[0m \u001b[32m1.8/1.8 MB\u001b[0m \u001b[31m7.5 MB/s\u001b[0m eta \u001b[36m0:00:00\u001b[0m\n",
            "\u001b[?25hRequirement already satisfied: python-dateutil>=2.4 in /usr/local/lib/python3.10/dist-packages (from faker) (2.8.2)\n",
            "Requirement already satisfied: six>=1.5 in /usr/local/lib/python3.10/dist-packages (from python-dateutil>=2.4->faker) (1.16.0)\n",
            "Installing collected packages: faker\n",
            "Successfully installed faker-25.3.0\n"
          ]
        }
      ],
      "source": [
        "pip install faker"
      ]
    },
    {
      "cell_type": "code",
      "source": [
        "import pandas as pd\n",
        "import numpy as np\n",
        "from faker import Faker\n",
        "import random\n",
        "\n",
        "# Initialize Faker\n",
        "fake = Faker('es_ES')\n",
        "\n",
        "# Generate mock data\n",
        "data = []\n",
        "row_id = 1\n",
        "\n",
        "# Configuration\n",
        "num_records = 4000\n",
        "\n",
        "# Define 100 store names\n",
        "store_names = [f\"Store_{i}\" for i in range(1, 101)]\n",
        "\n",
        "# Define real city, state, and country details for South American countries\n",
        "south_american_countries = [\n",
        "    {'country': 'Argentina', 'cities': ['Buenos Aires', 'Cordoba', 'Rosario']},\n",
        "    {'country': 'Brazil', 'cities': ['Sao Paulo', 'Rio de Janeiro', 'Brasilia']},\n",
        "    {'country': 'Colombia', 'cities': ['Bogota', 'Medellin', 'Cali']},\n",
        "    {'country': 'Peru', 'cities': ['Lima', 'Arequipa', 'Trujillo']},\n",
        "    {'country': 'Venezuela', 'cities': ['Caracas', 'Maracaibo', 'Valencia']},\n",
        "    {'country': 'Chile', 'cities': ['Santiago', 'Valparaiso', 'Concepcion']},\n",
        "    {'country': 'Ecuador', 'cities': ['Quito', 'Guayaquil', 'Cuenca']},\n",
        "    {'country': 'Bolivia', 'cities': ['La Paz', 'Santa Cruz', 'Cochabamba']},\n",
        "    {'country': 'Paraguay', 'cities': ['Asuncion', 'Ciudad del Este', 'Encarnacion']},\n",
        "    {'country': 'Uruguay', 'cities': ['Montevideo', 'Salto', 'Punta del Este']}\n",
        "]\n",
        "\n",
        "# Static Data for the Mock-up\n",
        "ship_modes = ['First Class', 'Second Class', 'Standard Class', 'Same Day']\n",
        "segments = ['Consumer', 'Corporate', 'Home Office']\n",
        "categories = ['Furniture', 'Office Supplies', 'Technology']\n",
        "sub_categories = {\n",
        "    'Furniture': ['Chairs', 'Tables', 'Bookcases'],\n",
        "    'Office Supplies': ['Paper', 'Binders', 'Pens'],\n",
        "    'Technology': ['Phones', 'Accessories', 'Copiers']\n",
        "}\n",
        "\n",
        "for _ in range(num_records):\n",
        "    order_id = fake.unique.uuid4()\n",
        "    order_date = fake.date_between(start_date='-3y', end_date='today')\n",
        "    ship_date = fake.date_between(start_date=order_date, end_date=order_date + pd.Timedelta(days=random.randint(1, 5)))\n",
        "    ship_mode = random.choice(ship_modes)\n",
        "    customer_id = fake.unique.uuid4()\n",
        "    customer_name = fake.name()\n",
        "    segment = random.choice(segments)\n"
      ],
      "metadata": {
        "id": "vEVZj0yERd1P"
      },
      "execution_count": null,
      "outputs": []
    }
  ]
}